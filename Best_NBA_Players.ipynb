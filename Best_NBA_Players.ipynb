{
 "cells": [
  {
   "cell_type": "code",
   "execution_count": 9,
   "metadata": {},
   "outputs": [
    {
     "ename": "ModuleNotFoundError",
     "evalue": "No module named 'numpy'",
     "output_type": "error",
     "traceback": [
      "\u001b[0;31m---------------------------------------------------------------------------\u001b[0m",
      "\u001b[0;31mModuleNotFoundError\u001b[0m                       Traceback (most recent call last)",
      "\u001b[0;32m<ipython-input-9-59ab05e21164>\u001b[0m in \u001b[0;36m<module>\u001b[0;34m\u001b[0m\n\u001b[0;32m----> 1\u001b[0;31m \u001b[0;32mimport\u001b[0m \u001b[0mnumpy\u001b[0m \u001b[0;32mas\u001b[0m \u001b[0mnp\u001b[0m\u001b[0;34m\u001b[0m\u001b[0;34m\u001b[0m\u001b[0m\n\u001b[0m\u001b[1;32m      2\u001b[0m \u001b[0;32mimport\u001b[0m \u001b[0mpandas\u001b[0m \u001b[0;32mas\u001b[0m \u001b[0mpd\u001b[0m\u001b[0;34m\u001b[0m\u001b[0;34m\u001b[0m\u001b[0m\n",
      "\u001b[0;31mModuleNotFoundError\u001b[0m: No module named 'numpy'"
     ]
    }
   ],
   "source": [
    "import numpy as np\n",
    "import pandas as pd"
   ]
  },
  {
   "cell_type": "code",
   "execution_count": 10,
   "metadata": {},
   "outputs": [
    {
     "ename": "NameError",
     "evalue": "name 'pd' is not defined",
     "output_type": "error",
     "traceback": [
      "\u001b[0;31m---------------------------------------------------------------------------\u001b[0m",
      "\u001b[0;31mNameError\u001b[0m                                 Traceback (most recent call last)",
      "\u001b[0;32m<ipython-input-10-d3c1d0fa1946>\u001b[0m in \u001b[0;36m<module>\u001b[0;34m\u001b[0m\n\u001b[0;32m----> 1\u001b[0;31m \u001b[0mreadfile\u001b[0m \u001b[0;34m=\u001b[0m \u001b[0mpd\u001b[0m\u001b[0;34m.\u001b[0m\u001b[0mread_csv\u001b[0m\u001b[0;34m(\u001b[0m\u001b[0;34m'Seasons_Stats.csv'\u001b[0m\u001b[0;34m,\u001b[0m \u001b[0mdelimiter\u001b[0m \u001b[0;34m=\u001b[0m \u001b[0;34m','\u001b[0m\u001b[0;34m)\u001b[0m\u001b[0;34m\u001b[0m\u001b[0;34m\u001b[0m\u001b[0m\n\u001b[0m",
      "\u001b[0;31mNameError\u001b[0m: name 'pd' is not defined"
     ]
    }
   ],
   "source": [
    "readfile = pd.read_csv('Seasons_Stats.csv', delimiter = ',')"
   ]
  },
  {
   "cell_type": "markdown",
   "metadata": {},
   "source": [
    "# Player Impact Score\n",
    "\n",
    "**Offensive Impact Score**\n",
    "\n",
    "(OIS) is the players Total Points + Total Assists + Total Offense Rebounds\n",
    "divided by the Total Minutes played.  Higher scores measure more offensive contribution to the team for every \n",
    "minute on the floor\n",
    "\n",
    "**Defensive Impact Score**\n",
    "\n",
    "(DIS) is the players Total Steals + Total Blocks + Total Defense Rebounds\n",
    "divided by the Total Minutes played.  Higher scores measure more defensive contribution to the team for every \n",
    "minute on the floor.\n",
    "\n",
    "**Negative Impact Score**\n",
    "\n",
    "(NIS) is the players Total Turnovers + Total Fouls divided by the Total Minutes played.  Higher scores measure more negative impact to the teams ability to win.\n",
    "\n",
    "**Total Impact Score**\n",
    "\n",
    "(OIS + DIS) - NIS\n"
   ]
  },
  {
   "cell_type": "code",
   "execution_count": 11,
   "metadata": {},
   "outputs": [],
   "source": [
    "# Player Effeciency Score\n"
   ]
  },
  {
   "cell_type": "markdown",
   "metadata": {},
   "source": [
    "## Special Notes\n",
    "\n",
    "- The data sat used covers 1950-2017 seasons only.  \n",
    "- Playsers with * next to their name are in the NBA Hall of Fame as of the 2017 NBA season.\n",
    "- Some stats were not captured in the 50's and some of the 60's and affects impact score ranking on defense.\n",
    "- Players selected below are pulled from various online 'opinions' of who are the NBA all time top 50 etc."
   ]
  },
  {
   "cell_type": "code",
   "execution_count": 12,
   "metadata": {},
   "outputs": [],
   "source": [
    "active = ['LeBron James','Kevin Durant','Stephen Curry','Kawhi Leonard','James Harden','Chris Paul',\n",
    "          'Vince Carter','Russell Westbrook','Kyrie Irving','Carmelo Anthony','Anthony Davis']\n",
    "hof = ['Michael Jordan*','Bill Russell*','Magic Johnson*','Kareem Abdul-Jabbar*','Larry Bird*',\n",
    "       'Wilt Chamberlain*',\"Shaquille O'Neal*\",'Hakeem Olajuwon*','David Robinson*','Reggie Miller*',\n",
    "       'Scottie Pippen*','Karl Malone*','Charles Barkley*','Isiah Thomas*','John Stockton*','Oscar Robertson*',\n",
    "       'Julius Erving*','Jerry West*','Elgin Baylor*','Moses Malone*','Elvin Hayes*','Robert Parish*',\n",
    "       'Chris Mullin*','Clyde Drexler*','Allen Iverson*','Patrick Ewing*','George Mikan*','Bob Cousy*',\n",
    "       'Pete Maravich*','John Havlicek*','Bill Walton*','Dominique Wilkins*','Bob Pettit*','Rick Barry*',\n",
    "       'George Gervin*']\n",
    "retired = ['Tim Duncan','Kobe Bryant','Dirk Nowitzki','Dwyane Wade','Kevin Garnett','Jason Kidd','Steve Nash',\n",
    "           'Gary Payton*','Ray Allen','Dwight Howard']\n",
    "ballers = active + hof + retired\n"
   ]
  },
  {
   "cell_type": "code",
   "execution_count": 13,
   "metadata": {},
   "outputs": [
    {
     "ename": "NameError",
     "evalue": "name 'readfile' is not defined",
     "output_type": "error",
     "traceback": [
      "\u001b[0;31m---------------------------------------------------------------------------\u001b[0m",
      "\u001b[0;31mNameError\u001b[0m                                 Traceback (most recent call last)",
      "\u001b[0;32m<ipython-input-13-986764966e88>\u001b[0m in \u001b[0;36m<module>\u001b[0;34m\u001b[0m\n\u001b[1;32m      2\u001b[0m \u001b[0mpes\u001b[0m \u001b[0;34m=\u001b[0m \u001b[0;34m[\u001b[0m\u001b[0;34m]\u001b[0m\u001b[0;34m\u001b[0m\u001b[0;34m\u001b[0m\u001b[0m\n\u001b[1;32m      3\u001b[0m \u001b[0;32mfor\u001b[0m \u001b[0mperson\u001b[0m \u001b[0;32min\u001b[0m \u001b[0mballers\u001b[0m\u001b[0;34m:\u001b[0m\u001b[0;34m\u001b[0m\u001b[0;34m\u001b[0m\u001b[0m\n\u001b[0;32m----> 4\u001b[0;31m     \u001b[0mballer\u001b[0m \u001b[0;34m=\u001b[0m \u001b[0mreadfile\u001b[0m\u001b[0;34m[\u001b[0m\u001b[0mreadfile\u001b[0m\u001b[0;34m.\u001b[0m\u001b[0mplayer\u001b[0m \u001b[0;34m==\u001b[0m \u001b[0mperson\u001b[0m\u001b[0;34m]\u001b[0m\u001b[0;34m\u001b[0m\u001b[0;34m\u001b[0m\u001b[0m\n\u001b[0m\u001b[1;32m      5\u001b[0m     \u001b[0;31m#stat = ['games','minutes_played','field_goals','field_goal_attempts','three_pointers','three_point_attempts',\u001b[0m\u001b[0;34m\u001b[0m\u001b[0;34m\u001b[0m\u001b[0;34m\u001b[0m\u001b[0m\n\u001b[1;32m      6\u001b[0m     \u001b[0;31m#        'two_pointers','two_point_attempts','free_throws','free_throw_attempts','offense_rebounds',\u001b[0m\u001b[0;34m\u001b[0m\u001b[0;34m\u001b[0m\u001b[0;34m\u001b[0m\u001b[0m\n",
      "\u001b[0;31mNameError\u001b[0m: name 'readfile' is not defined"
     ]
    }
   ],
   "source": [
    "pis = []\n",
    "pes = []\n",
    "for person in ballers:\n",
    "    baller = readfile[readfile.player == person]\n",
    "    #stat = ['games','minutes_played','field_goals','field_goal_attempts','three_pointers','three_point_attempts',\n",
    "    #        'two_pointers','two_point_attempts','free_throws','free_throw_attempts','offense_rebounds',\n",
    "    #        'defense_rebounds','assists','steals','blocks','turnovers','fouls','points']\n",
    "    total_games = baller['games'].sum()\n",
    "    total_minutes = baller['minutes_played'].sum()\n",
    "    total_fg = baller['field_goals'].sum()\n",
    "    total_fga = baller['field_goal_attempts'].sum()\n",
    "    total_tp = baller['three_pointers'].sum()\n",
    "    total_tpa = baller['three_point_attempts'].sum()\n",
    "    total_twos = baller['two_pointers'].sum()\n",
    "    total_twoa = baller['two_point_attempts'].sum()\n",
    "    total_ft = baller['free_throws'].sum()\n",
    "    total_fta = baller['free_throw_attempts'].sum()\n",
    "    total_ofrb = baller['offense_rebounds'].sum()\n",
    "    total_dfrb = baller['defense_rebounds'].sum()\n",
    "    total_assists = baller['assists'].sum()\n",
    "    total_steals = baller['steals'].sum()\n",
    "    total_blocks = baller['blocks'].sum()\n",
    "    total_turnovers = baller['turnovers'].sum()\n",
    "    total_fouls = baller['fouls'].sum()\n",
    "    total_points = baller['points'].sum()\n",
    "    points_per_game = total_points/total_games\n",
    "    offense_impact = (total_points + total_assists + total_ofrb)/total_minutes\n",
    "    defense_impact = (total_steals + total_blocks + total_dfrb)/total_minutes\n",
    "    negative_impact = (total_fouls + total_turnovers)/total_minutes\n",
    "    total_impact = (offense_impact + defense_impact) - negative_impact\n",
    "    fg_average = total_fga/total_fg\n",
    "#     print()\n",
    "#     print(person)\n",
    "#     print('{} OIS'.format(\"%.2f\" %offense_impact))\n",
    "#     print('{} DIS'.format(\"%.2f\" %defense_impact))\n",
    "#     print('{} NIS'.format(\"%.2f\" %negative_impact))\n",
    "#     print('{} TIS'.format(\"%.2f\" %total_impact))\n",
    "    pis.append([person,\"%.2f\" %offense_impact,\"%.2f\" %defense_impact,\"%.2f\" %negative_impact,\"%.2f\" %total_impact])\n",
    "\n",
    "    \n",
    "    "
   ]
  },
  {
   "cell_type": "code",
   "execution_count": 14,
   "metadata": {},
   "outputs": [
    {
     "ename": "NameError",
     "evalue": "name 'DataFrame' is not defined",
     "output_type": "error",
     "traceback": [
      "\u001b[0;31m---------------------------------------------------------------------------\u001b[0m",
      "\u001b[0;31mNameError\u001b[0m                                 Traceback (most recent call last)",
      "\u001b[0;32m<ipython-input-14-2bfbd026eef2>\u001b[0m in \u001b[0;36m<module>\u001b[0;34m\u001b[0m\n\u001b[0;32m----> 1\u001b[0;31m \u001b[0mpesDF\u001b[0m \u001b[0;34m=\u001b[0m \u001b[0mDataFrame\u001b[0m\u001b[0;34m\u001b[0m\u001b[0;34m\u001b[0m\u001b[0m\n\u001b[0m",
      "\u001b[0;31mNameError\u001b[0m: name 'DataFrame' is not defined"
     ]
    }
   ],
   "source": [
    "pesDF = DataFrame"
   ]
  },
  {
   "cell_type": "code",
   "execution_count": 7,
   "metadata": {},
   "outputs": [
    {
     "ename": "NameError",
     "evalue": "name 'pd' is not defined",
     "output_type": "error",
     "traceback": [
      "\u001b[0;31m---------------------------------------------------------------------------\u001b[0m",
      "\u001b[0;31mNameError\u001b[0m                                 Traceback (most recent call last)",
      "\u001b[0;32m<ipython-input-7-278625a300f9>\u001b[0m in \u001b[0;36m<module>\u001b[0;34m\u001b[0m\n\u001b[0;32m----> 1\u001b[0;31m \u001b[0mpisDF\u001b[0m \u001b[0;34m=\u001b[0m \u001b[0mpd\u001b[0m\u001b[0;34m.\u001b[0m\u001b[0mDataFrame\u001b[0m\u001b[0;34m(\u001b[0m\u001b[0mpis\u001b[0m\u001b[0;34m,\u001b[0m \u001b[0mcolumns\u001b[0m \u001b[0;34m=\u001b[0m \u001b[0;34m[\u001b[0m\u001b[0;34m'Player'\u001b[0m\u001b[0;34m,\u001b[0m\u001b[0;34m'Offense Impact Score'\u001b[0m\u001b[0;34m,\u001b[0m\u001b[0;34m'Defense Impact Score'\u001b[0m\u001b[0;34m,\u001b[0m\u001b[0;34m'Negative Impact Score'\u001b[0m\u001b[0;34m,\u001b[0m\u001b[0;34m'Total Impact Score'\u001b[0m\u001b[0;34m]\u001b[0m\u001b[0;34m)\u001b[0m\u001b[0;34m\u001b[0m\u001b[0;34m\u001b[0m\u001b[0m\n\u001b[0m",
      "\u001b[0;31mNameError\u001b[0m: name 'pd' is not defined"
     ]
    }
   ],
   "source": [
    "pisDF = pd.DataFrame(pis, columns = ['Player','Offense Impact Score','Defense Impact Score','Negative Impact Score','Total Impact Score'])"
   ]
  },
  {
   "cell_type": "code",
   "execution_count": 8,
   "metadata": {},
   "outputs": [
    {
     "ename": "NameError",
     "evalue": "name 'pisDF' is not defined",
     "output_type": "error",
     "traceback": [
      "\u001b[0;31m---------------------------------------------------------------------------\u001b[0m",
      "\u001b[0;31mNameError\u001b[0m                                 Traceback (most recent call last)",
      "\u001b[0;32m<ipython-input-8-9c482cb741d4>\u001b[0m in \u001b[0;36m<module>\u001b[0;34m\u001b[0m\n\u001b[0;32m----> 1\u001b[0;31m \u001b[0mpisDF\u001b[0m\u001b[0;34m.\u001b[0m\u001b[0msort_values\u001b[0m\u001b[0;34m(\u001b[0m\u001b[0mby\u001b[0m\u001b[0;34m=\u001b[0m\u001b[0;34m'Total Impact Score'\u001b[0m\u001b[0;34m,\u001b[0m\u001b[0mascending\u001b[0m\u001b[0;34m=\u001b[0m\u001b[0;32mFalse\u001b[0m\u001b[0;34m)\u001b[0m\u001b[0;34m\u001b[0m\u001b[0;34m\u001b[0m\u001b[0m\n\u001b[0m",
      "\u001b[0;31mNameError\u001b[0m: name 'pisDF' is not defined"
     ]
    }
   ],
   "source": [
    "pisDF.sort_values(by='Total Impact Score',ascending=False)"
   ]
  },
  {
   "cell_type": "code",
   "execution_count": null,
   "metadata": {},
   "outputs": [],
   "source": []
  },
  {
   "cell_type": "code",
   "execution_count": null,
   "metadata": {},
   "outputs": [],
   "source": []
  }
 ],
 "metadata": {
  "kernelspec": {
   "display_name": "Python 3",
   "language": "python",
   "name": "python3"
  },
  "language_info": {
   "codemirror_mode": {
    "name": "ipython",
    "version": 3
   },
   "file_extension": ".py",
   "mimetype": "text/x-python",
   "name": "python",
   "nbconvert_exporter": "python",
   "pygments_lexer": "ipython3",
   "version": "3.8.2"
  }
 },
 "nbformat": 4,
 "nbformat_minor": 2
}
